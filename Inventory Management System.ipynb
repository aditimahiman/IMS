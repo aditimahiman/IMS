{
 "cells": [
  {
   "cell_type": "markdown",
   "id": "f05aaf8f",
   "metadata": {},
   "source": [
    "# Read Data From Json"
   ]
  },
  {
   "cell_type": "code",
   "execution_count": 1,
   "id": "affb2a3d",
   "metadata": {},
   "outputs": [],
   "source": [
    "import json"
   ]
  },
  {
   "cell_type": "code",
   "execution_count": 2,
   "id": "12cb39c8",
   "metadata": {},
   "outputs": [],
   "source": [
    "fd = open(\"record.json\",'r')\n",
    "text= fd.read()\n",
    "fd.close()\n",
    "\n",
    "record = json.loads(text)"
   ]
  },
  {
   "cell_type": "code",
   "execution_count": 3,
   "id": "61461e05",
   "metadata": {},
   "outputs": [
    {
     "data": {
      "text/plain": [
       "{'1001': {'name': 'Choco Cake', 'qn': 34, 'pr': 100},\n",
       " '1002': {'name': 'Milk Cake', 'pr': 800, 'qn': 100},\n",
       " '1003': {'name': 'Drink', 'pr': 85, 'qn': 100},\n",
       " '1004': {'name': 'Candy', 'pr': 5, 'qn': 1000},\n",
       " '1005': {'name': 'Pen', 'pr': 20, 'qn': 100},\n",
       " '1006': {'name': 'Phone', 'pr': 50000, 'qn': 10},\n",
       " '1007': {'name': 'Mic', 'pr': 1500, 'qn': 0},\n",
       " '1008': {'name': 'Case', 'pr': 599, 'qn': 5},\n",
       " '1009': {'name': 'Keyboard', 'pr': 1999, 'qn': 10},\n",
       " '1010': {'name': 'Notebook', 'price': 55, 'Quantity': 50},\n",
       " '1011': {'name': 'Bag', 'price': 250, 'Quantity': 5},\n",
       " '1012': {'name': 'Teddy', 'price': 560, 'Quantity': 15},\n",
       " '1013': {'name': 'Mask', 'price': 15, 'Quantity': 60},\n",
       " '1014': {'name': 'Bottle', 'price': 35, 'Quantity': 10},\n",
       " '1015': {'name': 'Compass', 'price': 105, 'Quantity': 5},\n",
       " '1016': {'name': 'Cover', 'price': 40, 'Quantity': 3},\n",
       " '1017': {'name': 'Mouse', 'price': 350, 'Quantity': 15},\n",
       " '1018': {'name': 'Mouse Pad', 'price': 150, 'Quantity': 10},\n",
       " '1019': {'name': 'Vase', 'price': 600, 'Quantity': 2},\n",
       " '1020': {'name': 'Scale', 'price': 12, 'Quantity': 25},\n",
       " '2021': {'name': 'Watch', 'price': 999, 'Quantity': 5},\n",
       " '2022': {'name': 'Stapler', 'price': 55, 'Quantity': 3},\n",
       " '2023': {'name': 'Eraser', 'price': 5, 'Quantity': 12},\n",
       " '2024': {'name': 'Nail Paint', 'price': 25, 'Quantity': 5},\n",
       " '2025': {'name': 'Chips', 'price': 10, 'Quantity': 10},\n",
       " '2026': {'name': 'Pencil', 'price': 6, 'Quantity': 12}}"
      ]
     },
     "execution_count": 3,
     "metadata": {},
     "output_type": "execute_result"
    }
   ],
   "source": [
    "record"
   ]
  },
  {
   "cell_type": "markdown",
   "id": "c10e721a",
   "metadata": {},
   "source": [
    "# Add New Item into Inventory"
   ]
  },
  {
   "cell_type": "code",
   "execution_count": 7,
   "id": "528a525d",
   "metadata": {},
   "outputs": [
    {
     "name": "stdout",
     "output_type": "stream",
     "text": [
      "Enter product id:2030\n",
      "Enter name:Cushion\n",
      "Enter price:550\n",
      "Enter quantity:4\n"
     ]
    }
   ],
   "source": [
    "prod_id = str(input(\"Enter product id:\"))\n",
    "name = str(input(\"Enter name:\"))\n",
    "pr = int(input(\"Enter price:\"))\n",
    "qn = int(input(\"Enter quantity:\"))\n",
    "\n",
    "record[prod_id] = {'name': name, 'price': pr, 'Quantity': qn}\n",
    "\n",
    "js = json.dumps(record)\n",
    "\n",
    "fd = open(\"record.json\",'w')\n",
    "fd.write(js)\n",
    "fd.close()"
   ]
  },
  {
   "cell_type": "markdown",
   "id": "4aa0663e",
   "metadata": {},
   "source": [
    "# Purchase the product"
   ]
  },
  {
   "cell_type": "code",
   "execution_count": 13,
   "id": "1896cffd",
   "metadata": {},
   "outputs": [
    {
     "data": {
      "text/plain": [
       "{'1001': {'name': 'Choco Cake', 'qn': 34, 'pr': 100},\n",
       " '1002': {'name': 'Milk Cake', 'pr': 800, 'qn': 100},\n",
       " '1003': {'name': 'Drink', 'pr': 85, 'qn': 100},\n",
       " '1004': {'name': 'Candy', 'pr': 5, 'qn': 1000},\n",
       " '1005': {'name': 'Pen', 'pr': 20, 'qn': 100},\n",
       " '1006': {'name': 'Phone', 'pr': 50000, 'qn': 10},\n",
       " '1007': {'name': 'Mic', 'pr': 1500, 'qn': 0},\n",
       " '1008': {'name': 'Case', 'pr': 599, 'qn': 5},\n",
       " '1009': {'name': 'Keyboard', 'pr': 1999, 'qn': 10},\n",
       " '1010': {'name': 'Notebook', 'price': 55, 'Quantity': 50},\n",
       " '1011': {'name': 'Bag', 'price': 250, 'Quantity': 5},\n",
       " '1012': {'name': 'Teddy', 'price': 560, 'Quantity': 15},\n",
       " '1013': {'name': 'Mask', 'price': 15, 'Quantity': 60},\n",
       " '1014': {'name': 'Bottle', 'price': 35, 'Quantity': 10},\n",
       " '1015': {'name': 'Compass', 'price': 105, 'Quantity': 5},\n",
       " '1016': {'name': 'Cover', 'price': 40, 'Quantity': 3},\n",
       " '1017': {'name': 'Mouse', 'price': 350, 'Quantity': 15},\n",
       " '1018': {'name': 'Mouse Pad', 'price': 150, 'Quantity': 10},\n",
       " '1019': {'name': 'Vase', 'price': 600, 'Quantity': 2},\n",
       " '1020': {'name': 'Scale', 'price': 12, 'Quantity': 25},\n",
       " '2021': {'name': 'Watch', 'price': 999, 'Quantity': 5},\n",
       " '2022': {'name': 'Stapler', 'price': 55, 'Quantity': 3},\n",
       " '2023': {'name': 'Eraser', 'price': 5, 'Quantity': 12},\n",
       " '2024': {'name': 'Nail Paint', 'price': 25, 'Quantity': 5},\n",
       " '2025': {'name': 'Chips', 'price': 10, 'Quantity': 10},\n",
       " '2026': {'name': 'Pencil', 'price': 6, 'Quantity': 12, 'qn': 7},\n",
       " '2027': {'name': 'Wallet', 'price': 400, 'Quantity': 7},\n",
       " '2028': {'name': 'Charger', 'price': 240, 'Quantity': 2},\n",
       " '2029': {'name': 'Scarf', 'price': 100, 'Quantity': 9},\n",
       " '2030': {'name': 'Cushion', 'price': 550, 'Quantity': 4}}"
      ]
     },
     "execution_count": 13,
     "metadata": {},
     "output_type": "execute_result"
    }
   ],
   "source": [
    "record"
   ]
  },
  {
   "cell_type": "code",
   "execution_count": 8,
   "id": "cf423e8e",
   "metadata": {},
   "outputs": [
    {
     "name": "stdout",
     "output_type": "stream",
     "text": [
      "Enter the product_Id: 2026\n",
      "Enter the quantity: 5\n",
      "Product:  Pencil\n",
      "Price:  6\n",
      "Billing Amount:  30\n"
     ]
    }
   ],
   "source": [
    "ui_prod  = str(input(\"Enter the product_Id: \"))\n",
    "ui_quant = int(input(\"Enter the quantity: \"))\n",
    "\n",
    "\n",
    "print(\"Product: \", record[ui_prod]['name'])\n",
    "print(\"Price: \", record[ui_prod]['price'])\n",
    "print(\"Billing Amount: \", record[ui_prod]['price'] * ui_quant)\n",
    "\n",
    "record[ui_prod]['qn'] = record[ui_prod]['Quantity'] - ui_quant"
   ]
  },
  {
   "cell_type": "markdown",
   "id": "2de57741",
   "metadata": {},
   "source": [
    "# Update Inventory after purchase"
   ]
  },
  {
   "cell_type": "code",
   "execution_count": 9,
   "id": "f1dfb0ac",
   "metadata": {},
   "outputs": [],
   "source": [
    "js = json.dumps(record)\n",
    "\n",
    "fd = open(\"record.json\",'w')\n",
    "fd.write(js)\n",
    "fd.close()"
   ]
  },
  {
   "cell_type": "markdown",
   "id": "a6ffdd33",
   "metadata": {},
   "source": [
    "# Sales JSON file"
   ]
  },
  {
   "cell_type": "code",
   "execution_count": 10,
   "id": "8d2457f3",
   "metadata": {},
   "outputs": [
    {
     "data": {
      "text/plain": [
       "{'prod': '2026', 'Quantity': 5, 'amount': 30}"
      ]
     },
     "execution_count": 10,
     "metadata": {},
     "output_type": "execute_result"
    }
   ],
   "source": [
    "{'prod' : ui_prod, 'Quantity' : ui_quant, 'amount': record[ui_prod]['price'] * ui_quant}"
   ]
  },
  {
   "cell_type": "code",
   "execution_count": 11,
   "id": "1bee7db8",
   "metadata": {},
   "outputs": [],
   "source": [
    "sales = {1 : {'prod' : ui_prod, 'Quantity' : ui_quant, 'amount': record[ui_prod]['price'] * ui_quant},\n",
    "         2 : {'prod' : ui_prod, 'Quantity' : ui_quant, 'amount': record[ui_prod]['price'] * ui_quant},\n",
    "         3 : {'prod' : ui_prod, 'Quantity' : ui_quant, 'amount': record[ui_prod]['price'] * ui_quant}}"
   ]
  },
  {
   "cell_type": "code",
   "execution_count": 12,
   "id": "7f0f8cae",
   "metadata": {},
   "outputs": [],
   "source": [
    "sale = json.dumps(sales)"
   ]
  },
  {
   "cell_type": "code",
   "execution_count": 17,
   "id": "ff9b6c15",
   "metadata": {},
   "outputs": [],
   "source": [
    "fd=open(\"sales.json\",'w')\n",
    "fd.write(sale)\n",
    "fd.close()"
   ]
  },
  {
   "cell_type": "code",
   "execution_count": null,
   "id": "90229a77",
   "metadata": {},
   "outputs": [],
   "source": []
  }
 ],
 "metadata": {
  "kernelspec": {
   "display_name": "Python 3",
   "language": "python",
   "name": "python3"
  },
  "language_info": {
   "codemirror_mode": {
    "name": "ipython",
    "version": 3
   },
   "file_extension": ".py",
   "mimetype": "text/x-python",
   "name": "python",
   "nbconvert_exporter": "python",
   "pygments_lexer": "ipython3",
   "version": "3.8.8"
  }
 },
 "nbformat": 4,
 "nbformat_minor": 5
}
